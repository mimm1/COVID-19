{
 "cells": [
  {
   "cell_type": "code",
   "execution_count": 7,
   "id": "minimal-swift",
   "metadata": {},
   "outputs": [],
   "source": [
    "import pandas as pd\n",
    "import requests\n",
    "from bs4 import BeautifulSoup\n",
    "from dateutil.parser import parse\n",
    "import os\n",
    "from datetime import datetime\n",
    "import json"
   ]
  },
  {
   "cell_type": "code",
   "execution_count": 52,
   "id": "incomplete-begin",
   "metadata": {},
   "outputs": [],
   "source": [
    "# Map Quest Geocoding API \n",
    "# https://developer.mapquest.com/documentation/geocoding-api/batch/post/\n",
    "MAP_QUEST_KEY = \"y45T24TbDOgGLOfpIN7AE4Y5MsVZ24Gc\"\n",
    "MAP_QUEST_URL = \"http://open.mapquestapi.com/geocoding/v1/address\"\n",
    "\n",
    "def get_lat_long(location): \n",
    "    \n",
    "    url = MAP_QUEST_URL\n",
    "    querystring = {\"key\": MAP_QUEST_KEY}\n",
    "    payload = {\n",
    "        'location' : location,\n",
    "        \"options\": {\n",
    "            \"thumbMaps\": False,\n",
    "            \"maxResults\": 1\n",
    "        }\n",
    "    }\n",
    "    headers = {\n",
    "        'Content-Type': \"application/json\",\n",
    "        'Accept': \"application/json\"\n",
    "    }   \n",
    "    response = requests.request(\"POST\", url, data=json.dumps(payload), headers=headers, params=querystring)\n",
    "    data = json.loads(response.text)\n",
    "    # Now you can access Json \n",
    "\n",
    "    #print(json.dumps(data, indent=1))\n",
    "    return data['results'][0]['locations'][0]['displayLatLng']"
   ]
  },
  {
   "cell_type": "code",
   "execution_count": 9,
   "id": "lovely-mining",
   "metadata": {},
   "outputs": [],
   "source": [
    "   "
   ]
  },
  {
   "cell_type": "code",
   "execution_count": 123,
   "id": "collective-volleyball",
   "metadata": {},
   "outputs": [
    {
     "name": "stdout",
     "output_type": "stream",
     "text": [
      "          city        lat         lng  \\\n",
      "0        SINDH  25.500000   69.000000   \n",
      "1          KPK  53.119420   23.125874   \n",
      "2       PUNJAB  30.929321   75.500484   \n",
      "3    ISLAMABAD  33.666667   73.166667   \n",
      "4  BALOCHISTAN  28.000000   66.000000   \n",
      "5       AJK/GB  39.783730 -100.445882   \n",
      "\n",
      "                                              status  \n",
      "0                                          [234,654]  \n",
      "1                                           [63,339]  \n",
      "2                                          [149,222]  \n",
      "3                                           [40,019]  \n",
      "4                                           [18,569]  \n",
      "5  [8,606,                                       ...  \n"
     ]
    }
   ],
   "source": [
    "res = requests.get('https://covid.gov.pk')\n",
    "soup = BeautifulSoup(res.text, 'html.parser')\n",
    "    \n",
    "locations = soup.findAll(\"div\", {\"class\": \"boxx\"})\n",
    "\n",
    "df = pd.DataFrame()\n",
    "lst_dict = []\n",
    "\n",
    "for m_loc in locations:\n",
    "    loc=m_loc.find(\"h6\", \"title\").text\n",
    "    status=m_loc.find(\"div\", \"h4\").text\n",
    "    l=get_lat_long(loc)\n",
    "    nstatus = status.split(\"\\n\", 2)\n",
    "    lst_dict.append({'city':loc, 'lat':l.get('lat'), 'lng': l.get('lng'), 'status': nstatus})\n",
    "   \n",
    " \n",
    "                    #df.append({'c1':loc,str(l.get('lat')), 'c2':loc,str(l.get('lng')), 'c3': nstatus},ignore_index=True)\n",
    "df4 = df.append(lst_dict)\n",
    "print(df4)"
   ]
  },
  {
   "cell_type": "code",
   "execution_count": 130,
   "id": "light-debut",
   "metadata": {},
   "outputs": [
    {
     "data": {
      "text/html": [
       "<div style=\"width:100%;\"><div style=\"position:relative;width:100%;height:0;padding-bottom:60%;\"><span style=\"color:#565656\">Make this Notebook Trusted to load map: File -> Trust Notebook</span><iframe src=\"about:blank\" style=\"position:absolute;width:100%;height:100%;left:0;top:0;border:none !important;\" data-html=%3C%21DOCTYPE%20html%3E%0A%3Chead%3E%20%20%20%20%0A%20%20%20%20%3Cmeta%20http-equiv%3D%22content-type%22%20content%3D%22text/html%3B%20charset%3DUTF-8%22%20/%3E%0A%20%20%20%20%0A%20%20%20%20%20%20%20%20%3Cscript%3E%0A%20%20%20%20%20%20%20%20%20%20%20%20L_NO_TOUCH%20%3D%20false%3B%0A%20%20%20%20%20%20%20%20%20%20%20%20L_DISABLE_3D%20%3D%20false%3B%0A%20%20%20%20%20%20%20%20%3C/script%3E%0A%20%20%20%20%0A%20%20%20%20%3Cstyle%3Ehtml%2C%20body%20%7Bwidth%3A%20100%25%3Bheight%3A%20100%25%3Bmargin%3A%200%3Bpadding%3A%200%3B%7D%3C/style%3E%0A%20%20%20%20%3Cstyle%3E%23map%20%7Bposition%3Aabsolute%3Btop%3A0%3Bbottom%3A0%3Bright%3A0%3Bleft%3A0%3B%7D%3C/style%3E%0A%20%20%20%20%3Cscript%20src%3D%22https%3A//cdn.jsdelivr.net/npm/leaflet%401.6.0/dist/leaflet.js%22%3E%3C/script%3E%0A%20%20%20%20%3Cscript%20src%3D%22https%3A//code.jquery.com/jquery-1.12.4.min.js%22%3E%3C/script%3E%0A%20%20%20%20%3Cscript%20src%3D%22https%3A//maxcdn.bootstrapcdn.com/bootstrap/3.2.0/js/bootstrap.min.js%22%3E%3C/script%3E%0A%20%20%20%20%3Cscript%20src%3D%22https%3A//cdnjs.cloudflare.com/ajax/libs/Leaflet.awesome-markers/2.0.2/leaflet.awesome-markers.js%22%3E%3C/script%3E%0A%20%20%20%20%3Clink%20rel%3D%22stylesheet%22%20href%3D%22https%3A//cdn.jsdelivr.net/npm/leaflet%401.6.0/dist/leaflet.css%22/%3E%0A%20%20%20%20%3Clink%20rel%3D%22stylesheet%22%20href%3D%22https%3A//maxcdn.bootstrapcdn.com/bootstrap/3.2.0/css/bootstrap.min.css%22/%3E%0A%20%20%20%20%3Clink%20rel%3D%22stylesheet%22%20href%3D%22https%3A//maxcdn.bootstrapcdn.com/bootstrap/3.2.0/css/bootstrap-theme.min.css%22/%3E%0A%20%20%20%20%3Clink%20rel%3D%22stylesheet%22%20href%3D%22https%3A//maxcdn.bootstrapcdn.com/font-awesome/4.6.3/css/font-awesome.min.css%22/%3E%0A%20%20%20%20%3Clink%20rel%3D%22stylesheet%22%20href%3D%22https%3A//cdnjs.cloudflare.com/ajax/libs/Leaflet.awesome-markers/2.0.2/leaflet.awesome-markers.css%22/%3E%0A%20%20%20%20%3Clink%20rel%3D%22stylesheet%22%20href%3D%22https%3A//cdn.jsdelivr.net/gh/python-visualization/folium/folium/templates/leaflet.awesome.rotate.min.css%22/%3E%0A%20%20%20%20%0A%20%20%20%20%20%20%20%20%20%20%20%20%3Cmeta%20name%3D%22viewport%22%20content%3D%22width%3Ddevice-width%2C%0A%20%20%20%20%20%20%20%20%20%20%20%20%20%20%20%20initial-scale%3D1.0%2C%20maximum-scale%3D1.0%2C%20user-scalable%3Dno%22%20/%3E%0A%20%20%20%20%20%20%20%20%20%20%20%20%3Cstyle%3E%0A%20%20%20%20%20%20%20%20%20%20%20%20%20%20%20%20%23map_d2ac9b6884c74fc1b892de0b63c523b9%20%7B%0A%20%20%20%20%20%20%20%20%20%20%20%20%20%20%20%20%20%20%20%20position%3A%20relative%3B%0A%20%20%20%20%20%20%20%20%20%20%20%20%20%20%20%20%20%20%20%20width%3A%20100.0%25%3B%0A%20%20%20%20%20%20%20%20%20%20%20%20%20%20%20%20%20%20%20%20height%3A%20100.0%25%3B%0A%20%20%20%20%20%20%20%20%20%20%20%20%20%20%20%20%20%20%20%20left%3A%200.0%25%3B%0A%20%20%20%20%20%20%20%20%20%20%20%20%20%20%20%20%20%20%20%20top%3A%200.0%25%3B%0A%20%20%20%20%20%20%20%20%20%20%20%20%20%20%20%20%7D%0A%20%20%20%20%20%20%20%20%20%20%20%20%3C/style%3E%0A%20%20%20%20%20%20%20%20%0A%3C/head%3E%0A%3Cbody%3E%20%20%20%20%0A%20%20%20%20%0A%3Cdiv%20style%3D%22position%3Afixed%3B%0A%20%20%20%20%20bottom%3A%2050px%3B%20%0A%20%20%20%20%20left%3A%2050px%3B%20%0A%20%20%20%20%20width%3A%20120px%3B%20%0A%20%20%20%20%20height%3A%2090px%3B%20%0A%20%20%20%20%20border%3A2px%20solid%20grey%3B%20%0A%20%20%20%20%20z-index%3A%209999%3B%0A%20%20%20%20%20font-size%3A14px%3B%22%3E%0A%20%20%20%20%20%26nbsp%3B%3Cb%3EPositive%20Cases%3A%3C/b%3E%3Cbr%3E%0A%20%20%20%20%20%26nbsp%3B%3Ci%20class%3D%22fa%20fa-circle%20fa-1x%22%20style%3D%22color%3Agreen%22%3E%3C/i%3E%26nbsp%3BUnder%2010%3Cbr%3E%0A%20%20%20%20%20%26nbsp%3B%3Ci%20class%3D%22fa%20fa-circle%20fa-1x%22%20style%3D%22color%3Aorange%22%3E%3C/i%3E%26nbsp%3BUnder%20100%3Cbr%3E%0A%20%20%20%20%20%26nbsp%3B%3Ci%20class%3D%22fa%20fa-circle%20fa-1x%22%20style%3D%22color%3Ared%22%3E%3C/i%3E%26nbsp%3BOver%20100%0A%3C/div%3E%0A%20%20%20%20%0A%20%20%20%20%20%20%20%20%20%20%20%20%3Cdiv%20class%3D%22folium-map%22%20id%3D%22map_d2ac9b6884c74fc1b892de0b63c523b9%22%20%3E%3C/div%3E%0A%20%20%20%20%20%20%20%20%0A%3C/body%3E%0A%3Cscript%3E%20%20%20%20%0A%20%20%20%20%0A%20%20%20%20%20%20%20%20%20%20%20%20var%20map_d2ac9b6884c74fc1b892de0b63c523b9%20%3D%20L.map%28%0A%20%20%20%20%20%20%20%20%20%20%20%20%20%20%20%20%22map_d2ac9b6884c74fc1b892de0b63c523b9%22%2C%0A%20%20%20%20%20%20%20%20%20%20%20%20%20%20%20%20%7B%0A%20%20%20%20%20%20%20%20%20%20%20%20%20%20%20%20%20%20%20%20center%3A%20%5B25.5%2C%2069.0%5D%2C%0A%20%20%20%20%20%20%20%20%20%20%20%20%20%20%20%20%20%20%20%20crs%3A%20L.CRS.EPSG3857%2C%0A%20%20%20%20%20%20%20%20%20%20%20%20%20%20%20%20%20%20%20%20zoom%3A%204%2C%0A%20%20%20%20%20%20%20%20%20%20%20%20%20%20%20%20%20%20%20%20zoomControl%3A%20true%2C%0A%20%20%20%20%20%20%20%20%20%20%20%20%20%20%20%20%20%20%20%20preferCanvas%3A%20false%2C%0A%20%20%20%20%20%20%20%20%20%20%20%20%20%20%20%20%7D%0A%20%20%20%20%20%20%20%20%20%20%20%20%29%3B%0A%0A%20%20%20%20%20%20%20%20%20%20%20%20%0A%0A%20%20%20%20%20%20%20%20%0A%20%20%20%20%0A%20%20%20%20%20%20%20%20%20%20%20%20var%20tile_layer_32122e0310f242a897a540cb08bf0f30%20%3D%20L.tileLayer%28%0A%20%20%20%20%20%20%20%20%20%20%20%20%20%20%20%20%22https%3A//%7Bs%7D.tile.openstreetmap.org/%7Bz%7D/%7Bx%7D/%7By%7D.png%22%2C%0A%20%20%20%20%20%20%20%20%20%20%20%20%20%20%20%20%7B%22attribution%22%3A%20%22Data%20by%20%5Cu0026copy%3B%20%5Cu003ca%20href%3D%5C%22http%3A//openstreetmap.org%5C%22%5Cu003eOpenStreetMap%5Cu003c/a%5Cu003e%2C%20under%20%5Cu003ca%20href%3D%5C%22http%3A//www.openstreetmap.org/copyright%5C%22%5Cu003eODbL%5Cu003c/a%5Cu003e.%22%2C%20%22detectRetina%22%3A%20false%2C%20%22maxNativeZoom%22%3A%2018%2C%20%22maxZoom%22%3A%2018%2C%20%22minZoom%22%3A%200%2C%20%22noWrap%22%3A%20false%2C%20%22opacity%22%3A%201%2C%20%22subdomains%22%3A%20%22abc%22%2C%20%22tms%22%3A%20false%7D%0A%20%20%20%20%20%20%20%20%20%20%20%20%29.addTo%28map_d2ac9b6884c74fc1b892de0b63c523b9%29%3B%0A%20%20%20%20%20%20%20%20%0A%20%20%20%20%0A%20%20%20%20%20%20%20%20%20%20%20%20var%20marker_f34e7432321f4460b97f12f87e1af79a%20%3D%20L.marker%28%0A%20%20%20%20%20%20%20%20%20%20%20%20%20%20%20%20%5B25.5%2C%2069.0%5D%2C%0A%20%20%20%20%20%20%20%20%20%20%20%20%20%20%20%20%7B%7D%0A%20%20%20%20%20%20%20%20%20%20%20%20%29.addTo%28map_d2ac9b6884c74fc1b892de0b63c523b9%29%3B%0A%20%20%20%20%20%20%20%20%0A%20%20%20%20%0A%20%20%20%20%20%20%20%20%20%20%20%20var%20icon_946eb889bb2b4effa58215ca10c04dfe%20%3D%20L.AwesomeMarkers.icon%28%0A%20%20%20%20%20%20%20%20%20%20%20%20%20%20%20%20%7B%22extraClasses%22%3A%20%22fa-rotate-0%22%2C%20%22icon%22%3A%20%22info-sign%22%2C%20%22iconColor%22%3A%20%22white%22%2C%20%22markerColor%22%3A%20%22red%22%2C%20%22prefix%22%3A%20%22glyphicon%22%7D%0A%20%20%20%20%20%20%20%20%20%20%20%20%29%3B%0A%20%20%20%20%20%20%20%20%20%20%20%20marker_f34e7432321f4460b97f12f87e1af79a.setIcon%28icon_946eb889bb2b4effa58215ca10c04dfe%29%3B%0A%20%20%20%20%20%20%20%20%0A%20%20%20%20%0A%20%20%20%20%20%20%20%20var%20popup_2685c62cff5f46379db3e9486c18f078%20%3D%20L.popup%28%7B%22maxWidth%22%3A%20%22100%25%22%7D%29%3B%0A%0A%20%20%20%20%20%20%20%20%0A%20%20%20%20%20%20%20%20%20%20%20%20var%20html_073051ef71c14fa196726f8d225cb00b%20%3D%20%24%28%60%3Cdiv%20id%3D%22html_073051ef71c14fa196726f8d225cb00b%22%20style%3D%22width%3A%20100.0%25%3B%20height%3A%20100.0%25%3B%22%3E%3Cdiv%20style%3D%22width%3A150px%3B%22%3ESINDH%3A%20%5B%27234%2C654%27%5D%3C/div%3E%3C/div%3E%60%29%5B0%5D%3B%0A%20%20%20%20%20%20%20%20%20%20%20%20popup_2685c62cff5f46379db3e9486c18f078.setContent%28html_073051ef71c14fa196726f8d225cb00b%29%3B%0A%20%20%20%20%20%20%20%20%0A%0A%20%20%20%20%20%20%20%20marker_f34e7432321f4460b97f12f87e1af79a.bindPopup%28popup_2685c62cff5f46379db3e9486c18f078%29%0A%20%20%20%20%20%20%20%20%3B%0A%0A%20%20%20%20%20%20%20%20%0A%20%20%20%20%0A%20%20%20%20%0A%20%20%20%20%20%20%20%20%20%20%20%20var%20marker_f64122e96d35446483fa6e98eec3851a%20%3D%20L.marker%28%0A%20%20%20%20%20%20%20%20%20%20%20%20%20%20%20%20%5B53.11942%2C%2023.125874%5D%2C%0A%20%20%20%20%20%20%20%20%20%20%20%20%20%20%20%20%7B%7D%0A%20%20%20%20%20%20%20%20%20%20%20%20%29.addTo%28map_d2ac9b6884c74fc1b892de0b63c523b9%29%3B%0A%20%20%20%20%20%20%20%20%0A%20%20%20%20%0A%20%20%20%20%20%20%20%20%20%20%20%20var%20icon_7db77a5a08994ca9b59d67768005ae6b%20%3D%20L.AwesomeMarkers.icon%28%0A%20%20%20%20%20%20%20%20%20%20%20%20%20%20%20%20%7B%22extraClasses%22%3A%20%22fa-rotate-0%22%2C%20%22icon%22%3A%20%22info-sign%22%2C%20%22iconColor%22%3A%20%22white%22%2C%20%22markerColor%22%3A%20%22red%22%2C%20%22prefix%22%3A%20%22glyphicon%22%7D%0A%20%20%20%20%20%20%20%20%20%20%20%20%29%3B%0A%20%20%20%20%20%20%20%20%20%20%20%20marker_f64122e96d35446483fa6e98eec3851a.setIcon%28icon_7db77a5a08994ca9b59d67768005ae6b%29%3B%0A%20%20%20%20%20%20%20%20%0A%20%20%20%20%0A%20%20%20%20%20%20%20%20var%20popup_5a01f0ebdb8e407293fbc17f2ffc971a%20%3D%20L.popup%28%7B%22maxWidth%22%3A%20%22100%25%22%7D%29%3B%0A%0A%20%20%20%20%20%20%20%20%0A%20%20%20%20%20%20%20%20%20%20%20%20var%20html_7d84ce87bcd045ddafde2e2808a07e02%20%3D%20%24%28%60%3Cdiv%20id%3D%22html_7d84ce87bcd045ddafde2e2808a07e02%22%20style%3D%22width%3A%20100.0%25%3B%20height%3A%20100.0%25%3B%22%3E%3Cdiv%20style%3D%22width%3A150px%3B%22%3EKPK%3A%20%5B%2763%2C339%27%5D%3C/div%3E%3C/div%3E%60%29%5B0%5D%3B%0A%20%20%20%20%20%20%20%20%20%20%20%20popup_5a01f0ebdb8e407293fbc17f2ffc971a.setContent%28html_7d84ce87bcd045ddafde2e2808a07e02%29%3B%0A%20%20%20%20%20%20%20%20%0A%0A%20%20%20%20%20%20%20%20marker_f64122e96d35446483fa6e98eec3851a.bindPopup%28popup_5a01f0ebdb8e407293fbc17f2ffc971a%29%0A%20%20%20%20%20%20%20%20%3B%0A%0A%20%20%20%20%20%20%20%20%0A%20%20%20%20%0A%20%20%20%20%0A%20%20%20%20%20%20%20%20%20%20%20%20var%20marker_a6f503c145384eea91e26ca9ff832d9f%20%3D%20L.marker%28%0A%20%20%20%20%20%20%20%20%20%20%20%20%20%20%20%20%5B30.929321%2C%2075.500484%5D%2C%0A%20%20%20%20%20%20%20%20%20%20%20%20%20%20%20%20%7B%7D%0A%20%20%20%20%20%20%20%20%20%20%20%20%29.addTo%28map_d2ac9b6884c74fc1b892de0b63c523b9%29%3B%0A%20%20%20%20%20%20%20%20%0A%20%20%20%20%0A%20%20%20%20%20%20%20%20%20%20%20%20var%20icon_ac39cd13ad284c2899ae9e98a95c7e32%20%3D%20L.AwesomeMarkers.icon%28%0A%20%20%20%20%20%20%20%20%20%20%20%20%20%20%20%20%7B%22extraClasses%22%3A%20%22fa-rotate-0%22%2C%20%22icon%22%3A%20%22info-sign%22%2C%20%22iconColor%22%3A%20%22white%22%2C%20%22markerColor%22%3A%20%22red%22%2C%20%22prefix%22%3A%20%22glyphicon%22%7D%0A%20%20%20%20%20%20%20%20%20%20%20%20%29%3B%0A%20%20%20%20%20%20%20%20%20%20%20%20marker_a6f503c145384eea91e26ca9ff832d9f.setIcon%28icon_ac39cd13ad284c2899ae9e98a95c7e32%29%3B%0A%20%20%20%20%20%20%20%20%0A%20%20%20%20%0A%20%20%20%20%20%20%20%20var%20popup_158b67c638874509bbaa7856348a0572%20%3D%20L.popup%28%7B%22maxWidth%22%3A%20%22100%25%22%7D%29%3B%0A%0A%20%20%20%20%20%20%20%20%0A%20%20%20%20%20%20%20%20%20%20%20%20var%20html_f0b22e5c049f43499be00a2ecdaa1eed%20%3D%20%24%28%60%3Cdiv%20id%3D%22html_f0b22e5c049f43499be00a2ecdaa1eed%22%20style%3D%22width%3A%20100.0%25%3B%20height%3A%20100.0%25%3B%22%3E%3Cdiv%20style%3D%22width%3A150px%3B%22%3EPUNJAB%3A%20%5B%27149%2C222%27%5D%3C/div%3E%3C/div%3E%60%29%5B0%5D%3B%0A%20%20%20%20%20%20%20%20%20%20%20%20popup_158b67c638874509bbaa7856348a0572.setContent%28html_f0b22e5c049f43499be00a2ecdaa1eed%29%3B%0A%20%20%20%20%20%20%20%20%0A%0A%20%20%20%20%20%20%20%20marker_a6f503c145384eea91e26ca9ff832d9f.bindPopup%28popup_158b67c638874509bbaa7856348a0572%29%0A%20%20%20%20%20%20%20%20%3B%0A%0A%20%20%20%20%20%20%20%20%0A%20%20%20%20%0A%20%20%20%20%0A%20%20%20%20%20%20%20%20%20%20%20%20var%20marker_5d44a51a667c4d46bf73b67c327156f1%20%3D%20L.marker%28%0A%20%20%20%20%20%20%20%20%20%20%20%20%20%20%20%20%5B33.666667%2C%2073.166667%5D%2C%0A%20%20%20%20%20%20%20%20%20%20%20%20%20%20%20%20%7B%7D%0A%20%20%20%20%20%20%20%20%20%20%20%20%29.addTo%28map_d2ac9b6884c74fc1b892de0b63c523b9%29%3B%0A%20%20%20%20%20%20%20%20%0A%20%20%20%20%0A%20%20%20%20%20%20%20%20%20%20%20%20var%20icon_feabe74f44144c7cb3e430f6fcfba3f7%20%3D%20L.AwesomeMarkers.icon%28%0A%20%20%20%20%20%20%20%20%20%20%20%20%20%20%20%20%7B%22extraClasses%22%3A%20%22fa-rotate-0%22%2C%20%22icon%22%3A%20%22info-sign%22%2C%20%22iconColor%22%3A%20%22white%22%2C%20%22markerColor%22%3A%20%22red%22%2C%20%22prefix%22%3A%20%22glyphicon%22%7D%0A%20%20%20%20%20%20%20%20%20%20%20%20%29%3B%0A%20%20%20%20%20%20%20%20%20%20%20%20marker_5d44a51a667c4d46bf73b67c327156f1.setIcon%28icon_feabe74f44144c7cb3e430f6fcfba3f7%29%3B%0A%20%20%20%20%20%20%20%20%0A%20%20%20%20%0A%20%20%20%20%20%20%20%20var%20popup_b8b600a9b4414526bd1ccf4a3ce72aa1%20%3D%20L.popup%28%7B%22maxWidth%22%3A%20%22100%25%22%7D%29%3B%0A%0A%20%20%20%20%20%20%20%20%0A%20%20%20%20%20%20%20%20%20%20%20%20var%20html_d0bbbdebdd6f4a72b313742b04ca0d74%20%3D%20%24%28%60%3Cdiv%20id%3D%22html_d0bbbdebdd6f4a72b313742b04ca0d74%22%20style%3D%22width%3A%20100.0%25%3B%20height%3A%20100.0%25%3B%22%3E%3Cdiv%20style%3D%22width%3A150px%3B%22%3EISLAMABAD%3A%20%5B%2740%2C019%27%5D%3C/div%3E%3C/div%3E%60%29%5B0%5D%3B%0A%20%20%20%20%20%20%20%20%20%20%20%20popup_b8b600a9b4414526bd1ccf4a3ce72aa1.setContent%28html_d0bbbdebdd6f4a72b313742b04ca0d74%29%3B%0A%20%20%20%20%20%20%20%20%0A%0A%20%20%20%20%20%20%20%20marker_5d44a51a667c4d46bf73b67c327156f1.bindPopup%28popup_b8b600a9b4414526bd1ccf4a3ce72aa1%29%0A%20%20%20%20%20%20%20%20%3B%0A%0A%20%20%20%20%20%20%20%20%0A%20%20%20%20%0A%20%20%20%20%0A%20%20%20%20%20%20%20%20%20%20%20%20var%20marker_f9b1812679ac4c2c87b2751788e58eb8%20%3D%20L.marker%28%0A%20%20%20%20%20%20%20%20%20%20%20%20%20%20%20%20%5B28.0%2C%2066.0%5D%2C%0A%20%20%20%20%20%20%20%20%20%20%20%20%20%20%20%20%7B%7D%0A%20%20%20%20%20%20%20%20%20%20%20%20%29.addTo%28map_d2ac9b6884c74fc1b892de0b63c523b9%29%3B%0A%20%20%20%20%20%20%20%20%0A%20%20%20%20%0A%20%20%20%20%20%20%20%20%20%20%20%20var%20icon_0227a92b17104bd8adb6f9efc49638dc%20%3D%20L.AwesomeMarkers.icon%28%0A%20%20%20%20%20%20%20%20%20%20%20%20%20%20%20%20%7B%22extraClasses%22%3A%20%22fa-rotate-0%22%2C%20%22icon%22%3A%20%22info-sign%22%2C%20%22iconColor%22%3A%20%22white%22%2C%20%22markerColor%22%3A%20%22red%22%2C%20%22prefix%22%3A%20%22glyphicon%22%7D%0A%20%20%20%20%20%20%20%20%20%20%20%20%29%3B%0A%20%20%20%20%20%20%20%20%20%20%20%20marker_f9b1812679ac4c2c87b2751788e58eb8.setIcon%28icon_0227a92b17104bd8adb6f9efc49638dc%29%3B%0A%20%20%20%20%20%20%20%20%0A%20%20%20%20%0A%20%20%20%20%20%20%20%20var%20popup_c2b441abf7b14ff2a102f077e82fcd19%20%3D%20L.popup%28%7B%22maxWidth%22%3A%20%22100%25%22%7D%29%3B%0A%0A%20%20%20%20%20%20%20%20%0A%20%20%20%20%20%20%20%20%20%20%20%20var%20html_9e48a2c31e2e488394ac547206e9d3ae%20%3D%20%24%28%60%3Cdiv%20id%3D%22html_9e48a2c31e2e488394ac547206e9d3ae%22%20style%3D%22width%3A%20100.0%25%3B%20height%3A%20100.0%25%3B%22%3E%3Cdiv%20style%3D%22width%3A150px%3B%22%3EBALOCHISTAN%3A%20%5B%2718%2C569%27%5D%3C/div%3E%3C/div%3E%60%29%5B0%5D%3B%0A%20%20%20%20%20%20%20%20%20%20%20%20popup_c2b441abf7b14ff2a102f077e82fcd19.setContent%28html_9e48a2c31e2e488394ac547206e9d3ae%29%3B%0A%20%20%20%20%20%20%20%20%0A%0A%20%20%20%20%20%20%20%20marker_f9b1812679ac4c2c87b2751788e58eb8.bindPopup%28popup_c2b441abf7b14ff2a102f077e82fcd19%29%0A%20%20%20%20%20%20%20%20%3B%0A%0A%20%20%20%20%20%20%20%20%0A%20%20%20%20%0A%20%20%20%20%0A%20%20%20%20%20%20%20%20%20%20%20%20var%20marker_3caf6c7aefd144e3a0f507a725c3ad9a%20%3D%20L.marker%28%0A%20%20%20%20%20%20%20%20%20%20%20%20%20%20%20%20%5B39.78373%2C%20-100.445882%5D%2C%0A%20%20%20%20%20%20%20%20%20%20%20%20%20%20%20%20%7B%7D%0A%20%20%20%20%20%20%20%20%20%20%20%20%29.addTo%28map_d2ac9b6884c74fc1b892de0b63c523b9%29%3B%0A%20%20%20%20%20%20%20%20%0A%20%20%20%20%0A%20%20%20%20%20%20%20%20%20%20%20%20var%20icon_61236b5e64154c6690962db675ab30ce%20%3D%20L.AwesomeMarkers.icon%28%0A%20%20%20%20%20%20%20%20%20%20%20%20%20%20%20%20%7B%22extraClasses%22%3A%20%22fa-rotate-0%22%2C%20%22icon%22%3A%20%22info-sign%22%2C%20%22iconColor%22%3A%20%22white%22%2C%20%22markerColor%22%3A%20%22red%22%2C%20%22prefix%22%3A%20%22glyphicon%22%7D%0A%20%20%20%20%20%20%20%20%20%20%20%20%29%3B%0A%20%20%20%20%20%20%20%20%20%20%20%20marker_3caf6c7aefd144e3a0f507a725c3ad9a.setIcon%28icon_61236b5e64154c6690962db675ab30ce%29%3B%0A%20%20%20%20%20%20%20%20%0A%20%20%20%20%0A%20%20%20%20%20%20%20%20var%20popup_a88ed0630fb24b2e94e0ccff27e86b36%20%3D%20L.popup%28%7B%22maxWidth%22%3A%20%22100%25%22%7D%29%3B%0A%0A%20%20%20%20%20%20%20%20%0A%20%20%20%20%20%20%20%20%20%20%20%20var%20html_5eee9eb8d14c409b8acb84de2ea6569f%20%3D%20%24%28%60%3Cdiv%20id%3D%22html_5eee9eb8d14c409b8acb84de2ea6569f%22%20style%3D%22width%3A%20100.0%25%3B%20height%3A%20100.0%25%3B%22%3E%3Cdiv%20style%3D%22width%3A150px%3B%22%3EAJK/GB%3A%20%5B%278%2C606%27%2C%20%27%20%20%20%20%20%20%20%20%20%20%20%20%20%20%20%20%20%20%20%20%20%20%20%20%20%20%20%20%20%20%20%20%20%20%20%20%20%20%20%20/%204%2C882%27%5D%3C/div%3E%3C/div%3E%60%29%5B0%5D%3B%0A%20%20%20%20%20%20%20%20%20%20%20%20popup_a88ed0630fb24b2e94e0ccff27e86b36.setContent%28html_5eee9eb8d14c409b8acb84de2ea6569f%29%3B%0A%20%20%20%20%20%20%20%20%0A%0A%20%20%20%20%20%20%20%20marker_3caf6c7aefd144e3a0f507a725c3ad9a.bindPopup%28popup_a88ed0630fb24b2e94e0ccff27e86b36%29%0A%20%20%20%20%20%20%20%20%3B%0A%0A%20%20%20%20%20%20%20%20%0A%20%20%20%20%0A%3C/script%3E onload=\"this.contentDocument.open();this.contentDocument.write(    decodeURIComponent(this.getAttribute('data-html')));this.contentDocument.close();\" allowfullscreen webkitallowfullscreen mozallowfullscreen></iframe></div></div>"
      ],
      "text/plain": [
       "<folium.folium.Map at 0x1da8ba491f0>"
      ]
     },
     "metadata": {},
     "output_type": "display_data"
    }
   ],
   "source": [
    "import folium as folium\n",
    "    \n",
    "# Center Map on State College, PA\n",
    "center_point = [25.500000,69.000000]\n",
    "county_map = folium.Map(location=center_point, zoom_start=4)\n",
    "popup_text = \"<div style=\\\"width:150px;\\\">{}: {}</div>\"\n",
    "\n",
    "# Display Data Points\n",
    "for row in df4.itertuples():\n",
    "    county_map.add_child(\n",
    "     folium.Marker(\n",
    "        location=[row.lat, row.lng],\n",
    "        popup=popup_text.format(row.city, row.status),\n",
    "        icon=folium.Icon(color=\"red\", icon=\"info-sign\"),\n",
    "        )\n",
    "    )\n",
    "                                 \n",
    "                                \n",
    "                                                 \n",
    "                                                 \n",
    "    \n",
    "# Add Category Legend\n",
    "legend_html = \"\"\"\n",
    "<div style=\"position:fixed;\n",
    "     bottom: 50px; \n",
    "     left: 50px; \n",
    "     width: 120px; \n",
    "     height: 90px; \n",
    "     border:2px solid grey; \n",
    "     z-index: 9999;\n",
    "     font-size:14px;\">\n",
    "     &nbsp;<b>Positive Cases:</b><br>\n",
    "     &nbsp;<i class=\"fa fa-circle fa-1x\" style=\"color:green\"></i>&nbsp;Under 10<br>\n",
    "     &nbsp;<i class=\"fa fa-circle fa-1x\" style=\"color:orange\"></i>&nbsp;Under 100<br>\n",
    "     &nbsp;<i class=\"fa fa-circle fa-1x\" style=\"color:red\"></i>&nbsp;Over 100\n",
    "</div>\"\"\"\n",
    "    \n",
    "# Add Legend\n",
    "county_map.get_root().html.add_child(folium.Element(legend_html))\n",
    "\n",
    "# Display Map\n",
    "display(county_map)"
   ]
  },
  {
   "cell_type": "code",
   "execution_count": 64,
   "id": "simple-kazakhstan",
   "metadata": {},
   "outputs": [
    {
     "name": "stdout",
     "output_type": "stream",
     "text": [
      "Note: you may need to restart the kernel to use updated packages.\n"
     ]
    },
    {
     "name": "stderr",
     "output_type": "stream",
     "text": [
      "'C:\\Users\\OrhanEyhab\\.conda\\envs\\TensorFlow' is not recognized as an internal or external command,\n",
      "operable program or batch file.\n"
     ]
    }
   ],
   "source": [
    "pip install folium"
   ]
  },
  {
   "cell_type": "code",
   "execution_count": null,
   "id": "published-newsletter",
   "metadata": {},
   "outputs": [],
   "source": []
  }
 ],
 "metadata": {
  "kernelspec": {
   "display_name": "Python 3",
   "language": "python",
   "name": "python3"
  },
  "language_info": {
   "codemirror_mode": {
    "name": "ipython",
    "version": 3
   },
   "file_extension": ".py",
   "mimetype": "text/x-python",
   "name": "python",
   "nbconvert_exporter": "python",
   "pygments_lexer": "ipython3",
   "version": "3.8.5"
  }
 },
 "nbformat": 4,
 "nbformat_minor": 5
}
